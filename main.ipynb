{
  "nbformat": 4,
  "nbformat_minor": 0,
  "metadata": {
    "colab": {
      "name": "Диплом.ipynb",
      "provenance": [],
      "collapsed_sections": []
    },
    "kernelspec": {
      "name": "python3",
      "display_name": "Python 3"
    }
  },
  "cells": [
    {
      "cell_type": "code",
      "metadata": {
        "id": "PIE2o5VJy1DX",
        "colab": {
          "base_uri": "https://localhost:8080/"
        },
        "outputId": "311715c5-d297-44dd-fa2c-036541007b9d"
      },
      "source": [
        "from google.colab import drive \n",
        "drive.mount(\"/content/drive/\")"
      ],
      "execution_count": 1,
      "outputs": [
        {
          "output_type": "stream",
          "text": [
            "Mounted at /content/drive/\n"
          ],
          "name": "stdout"
        }
      ]
    },
    {
      "cell_type": "code",
      "metadata": {
        "id": "OcU6ipI-QMNg"
      },
      "source": [
        "from tensorflow.keras.preprocessing.image import ImageDataGenerator\n",
        "from tensorflow.keras.applications import MobileNetV2\n",
        "from tensorflow.keras.layers import AveragePooling2D\n",
        "from tensorflow.keras.layers import Dropout\n",
        "from sklearn.preprocessing import LabelEncoder\n",
        "from tensorflow.keras.layers import Flatten\n",
        "from tensorflow.keras.layers import Dense\n",
        "from tensorflow.keras.layers import Input\n",
        "from tensorflow.keras.models import Model\n",
        "from tensorflow.keras.optimizers import Adam\n",
        "from tensorflow.keras.applications.mobilenet_v2 import preprocess_input\n",
        "from tensorflow.keras.preprocessing.image import img_to_array\n",
        "from tensorflow.keras.preprocessing.image import load_img\n",
        "from tensorflow.keras.utils import to_categorical\n",
        "from sklearn.preprocessing import LabelBinarizer\n",
        "from sklearn.model_selection import train_test_split\n",
        "from sklearn.metrics import classification_report\n",
        "from imutils import paths\n",
        "import argparse\n",
        "import matplotlib.pyplot as plt\n",
        "from PIL import Image\n",
        "import numpy as np\n",
        "from time import *\n",
        "from numpy import asarray\n",
        "import os\n",
        "from keras.models import load_model\n",
        "from keras.preprocessing import image\n",
        "import matplotlib.pyplot as plt"
      ],
      "execution_count": null,
      "outputs": []
    },
    {
      "cell_type": "code",
      "metadata": {
        "id": "iE77AYzXPFWl"
      },
      "source": [
        "INIT_LR = 1e-4\n",
        "EPOCHS = 20\n",
        "BS = 32\n",
        "data = []\n",
        "labels = []"
      ],
      "execution_count": null,
      "outputs": []
    },
    {
      "cell_type": "code",
      "metadata": {
        "id": "jf5jH2YtYcVB"
      },
      "source": [
        "def load_image(name,category):\n",
        "  path = '/content/drive/MyDrive/Data/'\n",
        "  for key, value in enumerate(os.listdir(path + name)):\n",
        "    image = load_img((path + name+'/'+value), target_size=(224,224))\n",
        "    image = img_to_array(image)\n",
        "    image = preprocess_input(image)\n",
        "    data.append(image),labels.append(category)"
      ],
      "execution_count": null,
      "outputs": []
    },
    {
      "cell_type": "code",
      "metadata": {
        "id": "D8wDbDriUqv8",
        "colab": {
          "base_uri": "https://localhost:8080/"
        },
        "outputId": "54fd5140-ec0b-43d1-8eeb-365738d582e8"
      },
      "source": [
        "data = asarray(data)\n",
        "labels = asarray(labels)\n",
        "lb = LabelEncoder()\n",
        "labels = lb.fit_transform(labels)\n",
        "labels = to_categorical(labels)"
      ],
      "execution_count": null,
      "outputs": [
        {
          "output_type": "execute_result",
          "data": {
            "text/plain": [
              "(3000, 3)"
            ]
          },
          "metadata": {
            "tags": []
          },
          "execution_count": 17
        }
      ]
    },
    {
      "cell_type": "code",
      "metadata": {
        "id": "U_d3xaGQa4IW"
      },
      "source": [
        "(trainX, testX, trainY, testY) = train_test_split(data, labels,\n",
        "\ttest_size=0.20, stratify=labels, random_state=42)"
      ],
      "execution_count": null,
      "outputs": []
    },
    {
      "cell_type": "code",
      "metadata": {
        "id": "VbrHOftIgHXf"
      },
      "source": [
        "aug = ImageDataGenerator(\n",
        "\trotation_range=20,\n",
        "\tzoom_range=0.15,\n",
        "\twidth_shift_range=0.2,\n",
        "\theight_shift_range=0.2,\n",
        "\tshear_range=0.15,\n",
        "\thorizontal_flip=True,\n",
        "\tfill_mode=\"nearest\")"
      ],
      "execution_count": null,
      "outputs": []
    },
    {
      "cell_type": "code",
      "metadata": {
        "id": "uOTexvD9gUO7",
        "colab": {
          "base_uri": "https://localhost:8080/"
        },
        "outputId": "e2d76bb2-d680-435f-cf2d-a347c992ce24"
      },
      "source": [
        "baseModel = MobileNetV2(weights=\"imagenet\", include_top=False, input_shape = (224, 224, 3), classes = 3)\n",
        "for layer in baseModel.layers:\n",
        "\tlayer.trainable = False"
      ],
      "execution_count": null,
      "outputs": [
        {
          "output_type": "stream",
          "text": [
            "Downloading data from https://storage.googleapis.com/tensorflow/keras-applications/mobilenet_v2/mobilenet_v2_weights_tf_dim_ordering_tf_kernels_1.0_224_no_top.h5\n",
            "9412608/9406464 [==============================] - 0s 0us/step\n"
          ],
          "name": "stdout"
        }
      ]
    },
    {
      "cell_type": "code",
      "metadata": {
        "id": "mqBHEiKghA75"
      },
      "source": [
        "headModel = baseModel.output\n",
        "headModel = AveragePooling2D(pool_size=(7, 7))(headModel)\n",
        "headModel = Flatten(name=\"flatten\")(headModel)\n",
        "headModel = Dense(128, activation=\"relu\")(headModel)\n",
        "headModel = Dropout(0.5)(headModel)\n",
        "headModel = Dense(3, activation=\"softmax\")(headModel)\n",
        "model = Model(inputs=baseModel.input, outputs=headModel)"
      ],
      "execution_count": null,
      "outputs": []
    },
    {
      "cell_type": "code",
      "metadata": {
        "id": "vroJnhJNIrSh"
      },
      "source": [
        "opt = Adam(lr=INIT_LR, decay=INIT_LR / EPOCHS)\n",
        "model.compile(loss=\"categorical_crossentropy\", optimizer=opt,\n",
        "\tmetrics=[\"accuracy\"])"
      ],
      "execution_count": null,
      "outputs": []
    },
    {
      "cell_type": "code",
      "metadata": {
        "id": "0mfleWEvhn1f",
        "colab": {
          "base_uri": "https://localhost:8080/"
        },
        "outputId": "78a70b78-7431-49c5-9599-b69b39cc6bb4"
      },
      "source": [
        "H = model.fit(\n",
        "\taug.flow(trainX, trainY, batch_size=BS),\n",
        "\tsteps_per_epoch=len(trainX) // BS, \n",
        "\tvalidation_data=(testX, testY),\n",
        "\tvalidation_steps=len(testX) // BS, \n",
        "\tepochs=EPOCHS)"
      ],
      "execution_count": null,
      "outputs": [
        {
          "output_type": "stream",
          "text": [
            "Epoch 1/20\n",
            "72/72 [==============================] - 138s 2s/step - loss: 1.0763 - accuracy: 0.5162 - val_loss: 0.3297 - val_accuracy: 0.8912\n",
            "Epoch 2/20\n",
            "72/72 [==============================] - 129s 2s/step - loss: 0.3804 - accuracy: 0.8465 - val_loss: 0.2312 - val_accuracy: 0.9257\n",
            "Epoch 3/20\n",
            "72/72 [==============================] - 130s 2s/step - loss: 0.2567 - accuracy: 0.9048 - val_loss: 0.1948 - val_accuracy: 0.9292\n",
            "Epoch 4/20\n",
            "72/72 [==============================] - 137s 2s/step - loss: 0.2260 - accuracy: 0.9110 - val_loss: 0.1693 - val_accuracy: 0.9465\n",
            "Epoch 5/20\n",
            "72/72 [==============================] - 126s 2s/step - loss: 0.2135 - accuracy: 0.9186 - val_loss: 0.1511 - val_accuracy: 0.9465\n",
            "Epoch 6/20\n",
            "72/72 [==============================] - 127s 2s/step - loss: 0.1698 - accuracy: 0.9375 - val_loss: 0.1355 - val_accuracy: 0.9585\n",
            "Epoch 7/20\n",
            "72/72 [==============================] - 127s 2s/step - loss: 0.1963 - accuracy: 0.9296 - val_loss: 0.1246 - val_accuracy: 0.9534\n",
            "Epoch 8/20\n",
            "72/72 [==============================] - 125s 2s/step - loss: 0.1634 - accuracy: 0.9435 - val_loss: 0.1195 - val_accuracy: 0.9603\n",
            "Epoch 9/20\n",
            "72/72 [==============================] - 125s 2s/step - loss: 0.1551 - accuracy: 0.9496 - val_loss: 0.1102 - val_accuracy: 0.9637\n",
            "Epoch 10/20\n",
            "72/72 [==============================] - 126s 2s/step - loss: 0.1330 - accuracy: 0.9550 - val_loss: 0.1050 - val_accuracy: 0.9655\n",
            "Epoch 11/20\n",
            "72/72 [==============================] - 126s 2s/step - loss: 0.1236 - accuracy: 0.9543 - val_loss: 0.0978 - val_accuracy: 0.9637\n",
            "Epoch 12/20\n",
            "72/72 [==============================] - 126s 2s/step - loss: 0.1273 - accuracy: 0.9538 - val_loss: 0.0923 - val_accuracy: 0.9672\n",
            "Epoch 13/20\n",
            "72/72 [==============================] - 124s 2s/step - loss: 0.1068 - accuracy: 0.9645 - val_loss: 0.0910 - val_accuracy: 0.9689\n",
            "Epoch 14/20\n",
            "72/72 [==============================] - 123s 2s/step - loss: 0.1172 - accuracy: 0.9586 - val_loss: 0.0887 - val_accuracy: 0.9689\n",
            "Epoch 15/20\n",
            "72/72 [==============================] - 124s 2s/step - loss: 0.0999 - accuracy: 0.9627 - val_loss: 0.0885 - val_accuracy: 0.9689\n",
            "Epoch 16/20\n",
            "72/72 [==============================] - 129s 2s/step - loss: 0.0995 - accuracy: 0.9666 - val_loss: 0.0852 - val_accuracy: 0.9706\n",
            "Epoch 17/20\n",
            "72/72 [==============================] - 125s 2s/step - loss: 0.0963 - accuracy: 0.9674 - val_loss: 0.0828 - val_accuracy: 0.9724\n",
            "Epoch 18/20\n",
            "72/72 [==============================] - 125s 2s/step - loss: 0.0802 - accuracy: 0.9721 - val_loss: 0.0811 - val_accuracy: 0.9724\n",
            "Epoch 19/20\n",
            "72/72 [==============================] - 125s 2s/step - loss: 0.0858 - accuracy: 0.9675 - val_loss: 0.0794 - val_accuracy: 0.9724\n",
            "Epoch 20/20\n",
            "72/72 [==============================] - 125s 2s/step - loss: 0.0915 - accuracy: 0.9646 - val_loss: 0.0782 - val_accuracy: 0.9724\n"
          ],
          "name": "stdout"
        }
      ]
    },
    {
      "cell_type": "code",
      "metadata": {
        "id": "SFnKdK0mI1PF"
      },
      "source": [
        "predIdxs = model.predict(testX, batch_size=BS)"
      ],
      "execution_count": null,
      "outputs": []
    },
    {
      "cell_type": "code",
      "metadata": {
        "id": "qYGYLovUh_zH"
      },
      "source": [
        "predIdxs = np.argmax(predIdxs, axis=1)"
      ],
      "execution_count": null,
      "outputs": []
    },
    {
      "cell_type": "code",
      "metadata": {
        "id": "piL7u9xhiDcT",
        "colab": {
          "base_uri": "https://localhost:8080/"
        },
        "outputId": "109b597a-79d5-4fa3-d8bd-1dc54486078e"
      },
      "source": [
        "print(classification_report(testY.argmax(axis=1), predIdxs,\n",
        "\ttarget_names =['0','1','2']))\n"
      ],
      "execution_count": null,
      "outputs": [
        {
          "output_type": "stream",
          "text": [
            "              precision    recall  f1-score   support\n",
            "\n",
            "           0       0.97      0.95      0.96       188\n",
            "           1       0.95      0.96      0.96       191\n",
            "           2       0.99      1.00      1.00       200\n",
            "\n",
            "    accuracy                           0.97       579\n",
            "   macro avg       0.97      0.97      0.97       579\n",
            "weighted avg       0.97      0.97      0.97       579\n",
            "\n"
          ],
          "name": "stdout"
        }
      ]
    },
    {
      "cell_type": "code",
      "metadata": {
        "id": "tkC2vWZ6JFAC"
      },
      "source": [
        "model.save('/content/drive/MyDrive/Data/Model/mask-detector-model.model', save_format=\"h5\")"
      ],
      "execution_count": null,
      "outputs": []
    },
    {
      "cell_type": "code",
      "metadata": {
        "id": "ynLfYTaIiJjU",
        "colab": {
          "base_uri": "https://localhost:8080/",
          "height": 298
        },
        "outputId": "2b321e7f-83c0-4617-89c1-bcb59fa47653"
      },
      "source": [
        "N = EPOCHS\n",
        "plt.style.use(\"ggplot\") \n",
        "plt.figure()\n",
        "plt.plot(np.arange(0, N), H.history[\"loss\"], label=\"train_loss\")\n",
        "plt.plot(np.arange(0, N), H.history[\"val_loss\"], label=\"val_loss\")\n",
        "plt.plot(np.arange(0, N), H.history[\"accuracy\"], label=\"train_acc\")\n",
        "plt.plot(np.arange(0, N), H.history[\"val_accuracy\"], label=\"val_acc\")\n",
        "plt.title(\"Training Loss and Accuracy\")\n",
        "plt.xlabel(\"Epoch #\")\n",
        "plt.ylabel(\"Loss/Accuracy\")\n",
        "plt.legend(loc=\"lower left\")\n",
        "plt.savefig('evaluation.png')"
      ],
      "execution_count": null,
      "outputs": [
        {
          "output_type": "display_data",
          "data": {
            "image/png": "[encoded data removed]",
            "text/plain": [
              "<Figure size 432x288 with 1 Axes>"
            ]
          },
          "metadata": {
            "tags": []
          }
        }
      ]
    }
  ]
}